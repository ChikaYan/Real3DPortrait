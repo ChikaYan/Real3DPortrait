{
 "cells": [
  {
   "cell_type": "code",
   "execution_count": 7,
   "metadata": {},
   "outputs": [],
   "source": [
    "import imageio\n",
    "from pathlib import Path\n",
    "\n",
    "import matplotlib.pyplot as plt\n",
    "\n",
    "import numpy as np"
   ]
  },
  {
   "cell_type": "code",
   "execution_count": 23,
   "metadata": {},
   "outputs": [
    {
     "name": "stderr",
     "output_type": "stream",
     "text": [
      "/tmp/ipykernel_65326/1608534563.py:13: DeprecationWarning: Starting with ImageIO v3 the behavior of this function will switch to that of iio.v3.imread. To keep the current behavior (and make this warning disappear) use `import imageio.v2 as imageio` or call `imageio.v2.imread` directly.\n",
      "  img = imageio.imread(str(im_p)) / 255.\n",
      "/tmp/ipykernel_65326/1608534563.py:14: DeprecationWarning: Starting with ImageIO v3 the behavior of this function will switch to that of iio.v3.imread. To keep the current behavior (and make this warning disappear) use `import imageio.v2 as imageio` or call `imageio.v2.imread` directly.\n",
      "  mask = imageio.imread(str(source_dir / 'mask' / im_p.name)) / 255.\n"
     ]
    }
   ],
   "source": [
    "source_dir = Path(\"/home/tw554/pointavatar_gs/data/datasets/jingyang3/jingyang3/all\")\n",
    "\n",
    "img_ps = list(sorted((source_dir / \"image\").glob(\"*\"), key=lambda x: int(x.stem)))\n",
    "\n",
    "\n",
    "\n",
    "writer = imageio.get_writer(\"/home/tw554/Real3DPortrait/data/jingyang3/vid.mp4\", quality=8, fps=25)\n",
    "\n",
    "\n",
    "\n",
    "\n",
    "for im_p in img_ps:\n",
    "    img = imageio.imread(str(im_p)) / 255.\n",
    "    mask = imageio.imread(str(source_dir / 'mask' / im_p.name)) / 255.\n",
    "\n",
    "    img = img * mask + 1 - mask\n",
    "    img = (img * 255).astype(np.uint8)\n",
    "    # break\n",
    "\n",
    "    writer.append_data(img)\n",
    "writer.close()\n",
    "\n",
    "\n",
    "\n"
   ]
  }
 ],
 "metadata": {
  "kernelspec": {
   "display_name": "point-avatar",
   "language": "python",
   "name": "python3"
  },
  "language_info": {
   "codemirror_mode": {
    "name": "ipython",
    "version": 3
   },
   "file_extension": ".py",
   "mimetype": "text/x-python",
   "name": "python",
   "nbconvert_exporter": "python",
   "pygments_lexer": "ipython3",
   "version": "3.9.18"
  }
 },
 "nbformat": 4,
 "nbformat_minor": 2
}
