{
 "cells": [
  {
   "cell_type": "code",
   "execution_count": 17,
   "metadata": {},
   "outputs": [],
   "source": [
    "import imageio\n",
    "from pathlib import Path\n",
    "\n",
    "import matplotlib.pyplot as plt\n",
    "\n",
    "import numpy as np"
   ]
  },
  {
   "cell_type": "code",
   "execution_count": null,
   "metadata": {},
   "outputs": [
    {
     "name": "stderr",
     "output_type": "stream",
     "text": [
      "/tmp/ipykernel_248614/1636479355.py:18: DeprecationWarning: Starting with ImageIO v3 the behavior of this function will switch to that of iio.v3.imread. To keep the current behavior (and make this warning disappear) use `import imageio.v2 as imageio` or call `imageio.v2.imread` directly.\n",
      "  img = imageio.imread(str(im_p)) / 255.\n",
      "/tmp/ipykernel_248614/1636479355.py:19: DeprecationWarning: Starting with ImageIO v3 the behavior of this function will switch to that of iio.v3.imread. To keep the current behavior (and make this warning disappear) use `import imageio.v2 as imageio` or call `imageio.v2.imread` directly.\n",
      "  mask = imageio.imread(str(source_dir / 'mask' / im_p.name)) / 255.\n"
     ]
    }
   ],
   "source": [
    "subject = \"jingyang3\"\n",
    "\n",
    "source_dir = Path(f\"/home/tw554/pointavatar_gs/data/datasets/{subject}/{subject}/all\")\n",
    "out_dir = Path(f\"/home/tw554/Real3DPortrait/data/TH1KH_512_{subject}/video/\")\n",
    "\n",
    "out_dir.mkdir(exist_ok=True, parents=True)\n",
    "\n",
    "img_ps = list(sorted((source_dir / \"image\").glob(\"*\"), key=lambda x: int(x.stem)))\n",
    "\n",
    "\n",
    "\n",
    "writer_train = imageio.get_writer(str(out_dir/\"train.mp4\"), quality=8, fps=25)\n",
    "\n",
    "\n",
    "\n",
    "\n",
    "for im_p in img_ps[:-1000]:\n",
    "    img = imageio.imread(str(im_p)) / 255.\n",
    "    mask = imageio.imread(str(source_dir / 'mask' / im_p.name)) / 255.\n",
    "\n",
    "    img = img * mask + 1 - mask\n",
    "    img = (img * 255).astype(np.uint8)\n",
    "\n",
    "    writer_train.append_data(img)\n",
    "writer_train.close()\n",
    "\n",
    "\n",
    "writer_test = imageio.get_writer(str(out_dir/\"test.mp4\"), quality=8, fps=25)\n",
    "for im_p in img_ps[-1000:]:\n",
    "    img = imageio.imread(str(im_p)) / 255.\n",
    "    mask = imageio.imread(str(source_dir / 'mask' / im_p.name)) / 255.\n",
    "\n",
    "    img = img * mask + 1 - mask\n",
    "    img = (img * 255).astype(np.uint8)\n",
    "\n",
    "    writer_train.append_data(img)\n",
    "writer_test.close()\n",
    "\n",
    "\n",
    "\n"
   ]
  }
 ],
 "metadata": {
  "kernelspec": {
   "display_name": "point-avatar",
   "language": "python",
   "name": "python3"
  },
  "language_info": {
   "codemirror_mode": {
    "name": "ipython",
    "version": 3
   },
   "file_extension": ".py",
   "mimetype": "text/x-python",
   "name": "python",
   "nbconvert_exporter": "python",
   "pygments_lexer": "ipython3",
   "version": "3.9.18"
  }
 },
 "nbformat": 4,
 "nbformat_minor": 2
}
